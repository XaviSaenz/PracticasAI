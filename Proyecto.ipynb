{
  "nbformat": 4,
  "nbformat_minor": 0,
  "metadata": {
    "colab": {
      "provenance": [],
      "mount_file_id": "1Gch2nbiaxp2kXoz-ViFfoAK0bw8PlDux",
      "authorship_tag": "ABX9TyNauZLdXi4tvO1P+ys1Wk6l",
      "include_colab_link": true
    },
    "kernelspec": {
      "name": "python3",
      "display_name": "Python 3"
    },
    "language_info": {
      "name": "python"
    }
  },
  "cells": [
    {
      "cell_type": "markdown",
      "metadata": {
        "id": "view-in-github",
        "colab_type": "text"
      },
      "source": [
        "<a href=\"https://colab.research.google.com/github/XaviSaenz/PracticasAI/blob/main/Proyecto.ipynb\" target=\"_parent\"><img src=\"https://colab.research.google.com/assets/colab-badge.svg\" alt=\"Open In Colab\"/></a>"
      ]
    },
    {
      "cell_type": "code",
      "execution_count": 46,
      "metadata": {
        "colab": {
          "base_uri": "https://localhost:8080/"
        },
        "id": "CLUYGfBhx3EL",
        "outputId": "ff4d77fd-fe96-4863-81ff-cc687038e302"
      },
      "outputs": [
        {
          "output_type": "stream",
          "name": "stderr",
          "text": [
            "<ipython-input-46-36d76f40d643>:34: SettingWithCopyWarning: \n",
            "A value is trying to be set on a copy of a slice from a DataFrame.\n",
            "Try using .loc[row_indexer,col_indexer] = value instead\n",
            "\n",
            "See the caveats in the documentation: https://pandas.pydata.org/pandas-docs/stable/user_guide/indexing.html#returning-a-view-versus-a-copy\n",
            "  dataset_sin_NAN['High_Rating'] = 0\n",
            "<ipython-input-46-36d76f40d643>:35: SettingWithCopyWarning: \n",
            "A value is trying to be set on a copy of a slice from a DataFrame.\n",
            "Try using .loc[row_indexer,col_indexer] = value instead\n",
            "\n",
            "See the caveats in the documentation: https://pandas.pydata.org/pandas-docs/stable/user_guide/indexing.html#returning-a-view-versus-a-copy\n",
            "  dataset_sin_NAN['Low_Rating'] = 0\n"
          ]
        },
        {
          "output_type": "stream",
          "name": "stdout",
          "text": [
            "20536\n",
            "4265\n",
            "                                 OLS Regression Results                                \n",
            "=======================================================================================\n",
            "Dep. Variable:                 Rating   R-squared (uncentered):                   0.204\n",
            "Model:                            OLS   Adj. R-squared (uncentered):              0.204\n",
            "Method:                 Least Squares   F-statistic:                              3180.\n",
            "Date:                Sat, 05 Aug 2023   Prob (F-statistic):                        0.00\n",
            "Time:                        18:59:19   Log-Likelihood:                         -60585.\n",
            "No. Observations:               24801   AIC:                                  1.212e+05\n",
            "Df Residuals:                   24799   BIC:                                  1.212e+05\n",
            "Df Model:                           2                                                  \n",
            "Covariance Type:            nonrobust                                                  \n",
            "==============================================================================\n",
            "                 coef    std err          t      P>|t|      [0.025      0.975]\n",
            "------------------------------------------------------------------------------\n",
            "Backlogs       0.0042      0.000     40.895      0.000       0.004       0.004\n",
            "Wishlist       0.0060      0.000     39.576      0.000       0.006       0.006\n",
            "==============================================================================\n",
            "Omnibus:                    21522.984   Durbin-Watson:                   0.292\n",
            "Prob(Omnibus):                  0.000   Jarque-Bera (JB):          1552411.657\n",
            "Skew:                          -3.821   Prob(JB):                         0.00\n",
            "Kurtosis:                      40.998   Cond. No.                         1.98\n",
            "==============================================================================\n",
            "\n",
            "Notes:\n",
            "[1] R² is computed without centering (uncentered) since the model does not contain a constant.\n",
            "[2] Standard Errors assume that the covariance matrix of the errors is correctly specified.\n"
          ]
        }
      ],
      "source": [
        "import pandas as pd\n",
        "import numpy as np\n",
        "import statsmodels.api as sm\n",
        "\n",
        "\n",
        "df = pd.read_csv('/content/drive/MyDrive/Maestria/Cursos Extras/Inteligencia Artificial/Datasets/Posibles DataSets para el proyecto/backloggd_games.csv')\n",
        "\n",
        "#Revisamos datos nulos por columna\n",
        "valores_nulos = df.isnull().sum()\n",
        "valores_nulos[:5]\n",
        "#print(df.dtypes)\n",
        "\n",
        "#Para verificar cuantas filas y columnas tiene nuestra base de datos.\n",
        "#print(df.shape)\n",
        "\n",
        "#Revisamos primero cuantos valores nulos en total tenemos\n",
        "total_celdas = np.product(df.shape)\n",
        "total_nulos = valores_nulos.sum()\n",
        "\n",
        "#eliminamos los valores nulos\n",
        "renglones_Nan = df.dropna()\n",
        "\n",
        "#Revisamos cuantos renglones teniamos originalmente y cuantas eliminamos.\n",
        "#print(\"Numero de renglones en el dataset original: \\n\",  df.shape)\n",
        "#print(\"Numero de renglones eliminadas: \",  renglones_Nan.shape)\n",
        "\n",
        "nuevo_dataset_sin_NAN = renglones_Nan\n",
        "\n",
        "        #'Title', , 'Reviews' , 'Lists' 'Plays', 'Playing',\n",
        "dataset_sin_NAN = nuevo_dataset_sin_NAN[['Backlogs', 'Wishlist', 'Rating']]\n",
        "#print (\"\\n\"*3, dataset_sin_NAN.head())\n",
        "\n",
        "#Creamos 2 nuevas columnas\n",
        "dataset_sin_NAN['High_Rating'] = 0\n",
        "dataset_sin_NAN['Low_Rating'] = 0\n",
        "\n",
        "#Declaramos nuevas etiquetas para el rating\n",
        "\n",
        "ctr = 0\n",
        "high = 0\n",
        "low = 0\n",
        "for i in dataset_sin_NAN[\"Rating\"]:\n",
        "  if(dataset_sin_NAN[\"Rating\"].values[ctr] > 2.3):\n",
        "    dataset_sin_NAN[\"High_Rating\"].values[ctr] = 1\n",
        "    dataset_sin_NAN[\"Low_Rating\"].values[ctr] = 0\n",
        "    high += 1\n",
        "\n",
        "  else:\n",
        "    dataset_sin_NAN[\"High_Rating\"].values[ctr] = 0\n",
        "    dataset_sin_NAN[\"Low_Rating\"].values[ctr] = 1\n",
        "    low +=1\n",
        "  ctr +=1\n",
        "\n",
        "print(high)\n",
        "print(low)\n",
        "\n",
        "#dataset_sin_NAN = dataset_sin_NAN.drop('Rating', axis = 'columns')\n",
        "#print(dataset_sin_NAN.head())\n",
        "#print(dataset_sin_NAN.dtypes)\n",
        "\n",
        "#Algoritmo de regresion lineal 1: dado que el target se dividio en 2\n",
        "X = dataset_sin_NAN[['Backlogs', 'Wishlist']]\n",
        "y_high_rating = dataset_sin_NAN['High_Rating']\n",
        "y_low_rating = dataset_sin_NAN['Low_Rating']\n",
        "y = dataset_sin_NAN['Rating']\n",
        "\n",
        "#Implementamos el modelo y predicciones\n",
        "model_high_rating = sm.OLS(y, X).fit()\n",
        "#model_low_rating = sm.OLS(y_low_rating, X).fit()\n",
        "\n",
        "predictions_high = model_high_rating.predict(X)\n",
        "#predictions_low = model_low_rating.predict(X)\n",
        "\n",
        "print(model_high_rating.summary())\n",
        "#print(\"\\n\"*5, model_low_rating.summary())"
      ]
    },
    {
      "cell_type": "markdown",
      "source": [
        "#Conclusiones\n",
        "Dado que el R^2 es muy cercano a 0 se concluye que este algoritmo no otorga resultados buenos o aceptables. Sin embargo a comparacion del algoritmo NB (el cual dio un valor ~0.02) tambien se concluye que el presente modelo otorga mejores resultados que el NB.\n",
        "\n"
      ],
      "metadata": {
        "id": "i3l99FS3QfBc"
      }
    }
  ]
}